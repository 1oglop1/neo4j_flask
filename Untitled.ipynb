{
 "cells": [
  {
   "cell_type": "code",
   "execution_count": 1,
   "metadata": {
    "collapsed": true
   },
   "outputs": [],
   "source": [
    "from neo4j.v1 import GraphDatabase, basic_auth, Node as neoNode\n",
    "from neo4j.v1.exceptions import *\n",
    "\n",
    "driver = GraphDatabase.driver(\"bolt://192.168.2.1\", auth=basic_auth(\"neo4j\", \"oglop\"), encrypted=False)"
   ]
  },
  {
   "cell_type": "code",
   "execution_count": null,
   "metadata": {
    "collapsed": true
   },
   "outputs": [],
   "source": [
    "def add_post(self, title, content, category='', tags=''):\n",
    "        user = self.find()\n",
    "        today = date_today()\n",
    "        slug = title+\"_\"+today\n",
    "        timestamp()\n",
    "        query = (\"MATCH (user:User {{ username:{username} }})\"\n",
    "                 \"CREATE path=(user)-[:PUBLISHED]->\"\n",
    "                 \"(post:Post {{ date_created:'{created}', title:'{title}', content:'{content}', \"\n",
    "                 \"slug:'{slug}', timestamp:'{time}' }}) \"\n",
    "                 \"RETURN path\").format(username=user['username'], created=today, title=title,\n",
    "                                       content=content, slug=slug, time=timestamp())\n",
    "        print(query)"
   ]
  },
  {
   "cell_type": "code",
   "execution_count": null,
   "metadata": {
    "collapsed": false
   },
   "outputs": [],
   "source": [
    "query = (\"MATCH (post:Post {{ slug:'{slug}' }}) \"\n",
    "         \"FOREACH( tag in {tags} | CREATE (:Tag {{title:tag}} )-[:TAGGED]->(post))\"\n",
    "         \"\").format(slug=\"Lemra_2016_06_18\", tags=str(tags))\n",
    "query"
   ]
  },
  {
   "cell_type": "code",
   "execution_count": null,
   "metadata": {
    "collapsed": false
   },
   "outputs": [],
   "source": [
    "tags=\"tag1, tag2; tag3 tag4\"\n",
    "tags = tags.strip()\n"
   ]
  },
  {
   "cell_type": "code",
   "execution_count": null,
   "metadata": {
    "collapsed": true
   },
   "outputs": [],
   "source": [
    "import re"
   ]
  },
  {
   "cell_type": "code",
   "execution_count": null,
   "metadata": {
    "collapsed": false
   },
   "outputs": [],
   "source": [
    "tags = re.split(r'[;, ]+', tags)"
   ]
  },
  {
   "cell_type": "code",
   "execution_count": null,
   "metadata": {
    "collapsed": false
   },
   "outputs": [],
   "source": [
    "rpr = tags.__str__()"
   ]
  },
  {
   "cell_type": "code",
   "execution_count": null,
   "metadata": {
    "collapsed": false
   },
   "outputs": [],
   "source": [
    "rpr"
   ]
  },
  {
   "cell_type": "code",
   "execution_count": null,
   "metadata": {
    "collapsed": false
   },
   "outputs": [],
   "source": [
    "str(tags)"
   ]
  },
  {
   "cell_type": "code",
   "execution_count": null,
   "metadata": {
    "collapsed": false
   },
   "outputs": [],
   "source": [
    "On the home page, the five most recent posts\n",
    "by all users are displayed;\n",
    "\n",
    "on a user’s profile,\n",
    "the five most recent posts by that user are displayed.\n",
    "\n",
    "The function get_todays_recent_posts gets today’s most recent posts and the method\n",
    "User.get_recent_posts gets a user’s most recent posts.\n"
   ]
  },
  {
   "cell_type": "code",
   "execution_count": 3,
   "metadata": {
    "collapsed": false
   },
   "outputs": [],
   "source": [
    "session=driver.session()\n",
    "\n",
    "\n",
    "def create_uniqueness_constraint(label, prop):\n",
    "    \"\"\"\n",
    "    Create unique constraints\n",
    "    :param label: Node Label\n",
    "    :param prop: Node property\n",
    "    \"\"\"\n",
    "    query = \"CREATE CONSTRAINT ON (n:{label}) ASSERT n.{prop} IS UNIQUE\"\n",
    "    query = query.format(label=label, prop=prop)\n",
    "    params=None\n",
    "    Neo.run(query, params)\n",
    "session.close()\n",
    "\n",
    "create_uniqueness_constraint(\"User\", \"username\")\n",
    "create_uniqueness_constraint(\"User\", \"email\")\n",
    "create_uniqueness_constraint(\"Tag\", \"title\")\n",
    "create_uniqueness_constraint(\"Post\", \"slug\")\n",
    "create_uniqueness_constraint(\"Category\", \"title\")\n"
   ]
  },
  {
   "cell_type": "code",
   "execution_count": null,
   "metadata": {
    "collapsed": true
   },
   "outputs": [],
   "source": [
    "record = result.single()"
   ]
  },
  {
   "cell_type": "code",
   "execution_count": null,
   "metadata": {
    "collapsed": false
   },
   "outputs": [],
   "source": [
    "record['post']['slug']"
   ]
  },
  {
   "cell_type": "code",
   "execution_count": null,
   "metadata": {
    "collapsed": true
   },
   "outputs": [],
   "source": []
  }
 ],
 "metadata": {
  "kernelspec": {
   "display_name": "Python 3",
   "language": "python",
   "name": "python3"
  },
  "language_info": {
   "codemirror_mode": {
    "name": "ipython",
    "version": 3
   },
   "file_extension": ".py",
   "mimetype": "text/x-python",
   "name": "python",
   "nbconvert_exporter": "python",
   "pygments_lexer": "ipython3",
   "version": "3.4.3"
  }
 },
 "nbformat": 4,
 "nbformat_minor": 0
}
